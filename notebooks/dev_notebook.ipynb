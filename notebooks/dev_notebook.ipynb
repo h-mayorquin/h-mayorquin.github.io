{
 "cells": [
  {
   "cell_type": "code",
   "execution_count": null,
   "metadata": {},
   "outputs": [],
   "source": []
  },
  {
   "cell_type": "code",
   "execution_count": 1,
   "metadata": {},
   "outputs": [
    {
     "name": "stdout",
     "output_type": "stream",
     "text": [
      "Array Length: 64424509\n",
      "Estimated Total Size: 2.9999999795109034 GiB\n"
     ]
    }
   ],
   "source": [
    "import numpy as np\n",
    "\n",
    "# Total desired size in bytes (3 GiB)\n",
    "total_size_in_bytes = 3 * 1024**3\n",
    "\n",
    "# Estimate the average size of a Python string in bytes\n",
    "# This is a rough estimate, actual size may vary due to various factors\n",
    "average_string_size = 50\n",
    "\n",
    "# Calculate the number of elements needed\n",
    "num_elements = total_size_in_bytes // average_string_size\n",
    "\n",
    "# Create an array of dtype 'object'\n",
    "object_array = np.empty(num_elements, dtype='object')\n",
    "\n",
    "# Fill the array with strings\n",
    "for i in range(num_elements):\n",
    "    object_array[i] = 'a' * average_string_size  # Or any other string pattern\n",
    "\n",
    "# Check the size (approximately)\n",
    "print(f\"Array Length: {len(object_array)}\")\n",
    "print(f\"Estimated Total Size: {len(object_array) * average_string_size / (1024**3)} GiB\")"
   ]
  },
  {
   "cell_type": "code",
   "execution_count": null,
   "metadata": {},
   "outputs": [],
   "source": []
  }
 ],
 "metadata": {
  "kernelspec": {
   "display_name": "personal_page",
   "language": "python",
   "name": "python3"
  },
  "language_info": {
   "codemirror_mode": {
    "name": "ipython",
    "version": 3
   },
   "file_extension": ".py",
   "mimetype": "text/x-python",
   "name": "python",
   "nbconvert_exporter": "python",
   "pygments_lexer": "ipython3",
   "version": "3.11.0"
  }
 },
 "nbformat": 4,
 "nbformat_minor": 2
}
